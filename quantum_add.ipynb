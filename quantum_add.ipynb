{
 "cells": [
  {
   "cell_type": "code",
   "execution_count": 1,
   "id": "a7377ec9",
   "metadata": {},
   "outputs": [],
   "source": [
    "from qiskit import ClassicalRegister, QuantumRegister\n",
    "from qiskit import QuantumCircuit, Aer, assemble\n",
    "from qiskit import execute"
   ]
  },
  {
   "cell_type": "code",
   "execution_count": 2,
   "id": "3b73f0e5",
   "metadata": {},
   "outputs": [],
   "source": [
    "from qiskit import IBMQ\n",
    "from qiskit.tools.monitor import job_monitor\n",
    "from qiskit.visualization import plot_histogram"
   ]
  },
  {
   "cell_type": "code",
   "execution_count": 3,
   "id": "25ae8623",
   "metadata": {},
   "outputs": [],
   "source": [
    "# load account"
   ]
  },
  {
   "cell_type": "code",
   "execution_count": 4,
   "id": "d38e6bb6",
   "metadata": {},
   "outputs": [],
   "source": [
    "IBMQ.save_account('ead46a48725b88f872e47c38c4ddc51a5f73c1573ea658477dcd2bee0989e682d0c607ef3f4b19345be56e64669a512a2655132b1c3c06c0a54ed79c724c554d', overwrite=True)"
   ]
  },
  {
   "cell_type": "code",
   "execution_count": 5,
   "id": "505b4f2a",
   "metadata": {},
   "outputs": [
    {
     "data": {
      "text/plain": [
       "<AccountProvider for IBMQ(hub='ibm-q', group='open', project='main')>"
      ]
     },
     "execution_count": 5,
     "metadata": {},
     "output_type": "execute_result"
    }
   ],
   "source": [
    "IBMQ.load_account()"
   ]
  },
  {
   "cell_type": "code",
   "execution_count": 6,
   "id": "edb39d8e",
   "metadata": {},
   "outputs": [],
   "source": [
    "provider = IBMQ.get_provider(hub='ibm-q')"
   ]
  },
  {
   "cell_type": "code",
   "execution_count": 7,
   "id": "b7a74a58",
   "metadata": {},
   "outputs": [],
   "source": [
    "device = provider.get_backend('ibmq_quito')"
   ]
  },
  {
   "cell_type": "code",
   "execution_count": 8,
   "id": "b2288f1b",
   "metadata": {},
   "outputs": [
    {
     "data": {
      "text/plain": [
       "<IBMQBackend('ibmq_quito') from IBMQ(hub='ibm-q', group='open', project='main')>"
      ]
     },
     "execution_count": 8,
     "metadata": {},
     "output_type": "execute_result"
    }
   ],
   "source": [
    "device"
   ]
  },
  {
   "cell_type": "code",
   "execution_count": 9,
   "id": "b6651f72",
   "metadata": {},
   "outputs": [],
   "source": [
    "# simple circuit"
   ]
  },
  {
   "cell_type": "code",
   "execution_count": 10,
   "id": "548ba957",
   "metadata": {},
   "outputs": [],
   "source": [
    "qc_output = QuantumCircuit(2, 2)"
   ]
  },
  {
   "cell_type": "code",
   "execution_count": 11,
   "id": "fe1d9185",
   "metadata": {},
   "outputs": [],
   "source": [
    "for j in range(2):\n",
    "    qc_output.measure(j,j)"
   ]
  },
  {
   "cell_type": "code",
   "execution_count": 12,
   "id": "91826aba",
   "metadata": {},
   "outputs": [
    {
     "data": {
      "text/html": [
       "<pre style=\"word-wrap: normal;white-space: pre;background: #fff0;line-height: 1.1;font-family: &quot;Courier New&quot;,Courier,monospace\">     ┌─┐   \n",
       "q_0: ┤M├───\n",
       "     └╥┘┌─┐\n",
       "q_1: ─╫─┤M├\n",
       "      ║ └╥┘\n",
       "c: 2/═╩══╩═\n",
       "      0  1 </pre>"
      ],
      "text/plain": [
       "     ┌─┐   \n",
       "q_0: ┤M├───\n",
       "     └╥┘┌─┐\n",
       "q_1: ─╫─┤M├\n",
       "      ║ └╥┘\n",
       "c: 2/═╩══╩═\n",
       "      0  1 "
      ]
     },
     "execution_count": 12,
     "metadata": {},
     "output_type": "execute_result"
    }
   ],
   "source": [
    "qc_output.draw()"
   ]
  },
  {
   "cell_type": "code",
   "execution_count": null,
   "id": "35d393a7",
   "metadata": {},
   "outputs": [],
   "source": [
    "# Classic simulator"
   ]
  },
  {
   "cell_type": "code",
   "execution_count": null,
   "id": "e193022e",
   "metadata": {},
   "outputs": [],
   "source": [
    "sim = Aer.get_backend('aer_simulator')  # this is the simulator we'll use\n",
    "qobj = assemble(qc_output)  # this turns the circuit into an object our backend can run\n",
    "result = sim.run(qobj).result()  # we run the experiment and get the result from that experiment\n",
    "# from the results, we get a dictionary containing the number of times (counts)\n",
    "# each result appeared\n",
    "counts = result.get_counts()\n",
    "# and display it on a histogram\n",
    "plot_histogram(counts)"
   ]
  },
  {
   "cell_type": "code",
   "execution_count": null,
   "id": "c5abe549",
   "metadata": {},
   "outputs": [],
   "source": [
    "counts"
   ]
  },
  {
   "cell_type": "code",
   "execution_count": null,
   "id": "bc174dc0",
   "metadata": {},
   "outputs": [],
   "source": [
    "# Real quantum"
   ]
  },
  {
   "cell_type": "code",
   "execution_count": 13,
   "id": "3df8df7a",
   "metadata": {},
   "outputs": [],
   "source": [
    "job = execute(qc_output, backend=device, shots=100)"
   ]
  },
  {
   "cell_type": "code",
   "execution_count": 14,
   "id": "95d1fba7",
   "metadata": {},
   "outputs": [
    {
     "name": "stdout",
     "output_type": "stream",
     "text": [
      "6158c519ceec1bd88c6f8d89\n"
     ]
    }
   ],
   "source": [
    "print(job.job_id())"
   ]
  },
  {
   "cell_type": "code",
   "execution_count": 15,
   "id": "16535374",
   "metadata": {},
   "outputs": [
    {
     "name": "stdout",
     "output_type": "stream",
     "text": [
      "Job Status: job has successfully run\n"
     ]
    }
   ],
   "source": [
    "job_monitor(job)"
   ]
  },
  {
   "cell_type": "code",
   "execution_count": 16,
   "id": "b8a3430f",
   "metadata": {},
   "outputs": [],
   "source": [
    "device_result = job.result()"
   ]
  },
  {
   "cell_type": "code",
   "execution_count": 17,
   "id": "2b239d03",
   "metadata": {},
   "outputs": [
    {
     "data": {
      "image/png": "[encoded data removed]",
      "text/plain": [
       "<Figure size 504x360 with 1 Axes>"
      ]
     },
     "execution_count": 17,
     "metadata": {},
     "output_type": "execute_result"
    }
   ],
   "source": [
    "plot_histogram(device_result.get_counts(qc_output))"
   ]
  },
  {
   "cell_type": "code",
   "execution_count": 27,
   "id": "eacc18ef",
   "metadata": {},
   "outputs": [],
   "source": [
    "# add two single qbits"
   ]
  },
  {
   "cell_type": "code",
   "execution_count": 18,
   "id": "396d488d",
   "metadata": {},
   "outputs": [],
   "source": [
    "qc_add_single = QuantumCircuit(4, 2)"
   ]
  },
  {
   "cell_type": "code",
   "execution_count": 19,
   "id": "4a62d193",
   "metadata": {},
   "outputs": [
    {
     "data": {
      "text/plain": [
       "<qiskit.circuit.instructionset.InstructionSet at 0x7f4250a0fac0>"
      ]
     },
     "execution_count": 19,
     "metadata": {},
     "output_type": "execute_result"
    }
   ],
   "source": [
    "qc_add_single.x(0)\n",
    "qc_add_single.barrier()"
   ]
  },
  {
   "cell_type": "code",
   "execution_count": 20,
   "id": "a781d325",
   "metadata": {},
   "outputs": [
    {
     "data": {
      "text/plain": [
       "<qiskit.circuit.instructionset.InstructionSet at 0x7f425041f850>"
      ]
     },
     "execution_count": 20,
     "metadata": {},
     "output_type": "execute_result"
    }
   ],
   "source": [
    "qc_add_single.cx(0, 2)\n",
    "qc_add_single.cx(1, 2)\n",
    "qc_add_single.ccx(0, 1, 3)\n",
    "qc_add_single.barrier()"
   ]
  },
  {
   "cell_type": "code",
   "execution_count": 21,
   "id": "b7684bf2",
   "metadata": {},
   "outputs": [
    {
     "data": {
      "text/plain": [
       "<qiskit.circuit.instructionset.InstructionSet at 0x7f424fe3c130>"
      ]
     },
     "execution_count": 21,
     "metadata": {},
     "output_type": "execute_result"
    }
   ],
   "source": [
    "qc_add_single.measure(2, 0)\n",
    "qc_add_single.measure(3, 1)"
   ]
  },
  {
   "cell_type": "code",
   "execution_count": 22,
   "id": "1832c7e4",
   "metadata": {},
   "outputs": [
    {
     "data": {
      "text/html": [
       "<pre style=\"word-wrap: normal;white-space: pre;background: #fff0;line-height: 1.1;font-family: &quot;Courier New&quot;,Courier,monospace\">     ┌───┐ ░                 ░       \n",
       "q_0: ┤ X ├─░───■─────────■───░───────\n",
       "     └───┘ ░   │         │   ░       \n",
       "q_1: ──────░───┼────■────■───░───────\n",
       "           ░ ┌─┴─┐┌─┴─┐  │   ░ ┌─┐   \n",
       "q_2: ──────░─┤ X ├┤ X ├──┼───░─┤M├───\n",
       "           ░ └───┘└───┘┌─┴─┐ ░ └╥┘┌─┐\n",
       "q_3: ──────░───────────┤ X ├─░──╫─┤M├\n",
       "           ░           └───┘ ░  ║ └╥┘\n",
       "c: 2/═══════════════════════════╩══╩═\n",
       "                                0  1 </pre>"
      ],
      "text/plain": [
       "     ┌───┐ ░                 ░       \n",
       "q_0: ┤ X ├─░───■─────────■───░───────\n",
       "     └───┘ ░   │         │   ░       \n",
       "q_1: ──────░───┼────■────■───░───────\n",
       "           ░ ┌─┴─┐┌─┴─┐  │   ░ ┌─┐   \n",
       "q_2: ──────░─┤ X ├┤ X ├──┼───░─┤M├───\n",
       "           ░ └───┘└───┘┌─┴─┐ ░ └╥┘┌─┐\n",
       "q_3: ──────░───────────┤ X ├─░──╫─┤M├\n",
       "           ░           └───┘ ░  ║ └╥┘\n",
       "c: 2/═══════════════════════════╩══╩═\n",
       "                                0  1 "
      ]
     },
     "execution_count": 22,
     "metadata": {},
     "output_type": "execute_result"
    }
   ],
   "source": [
    "qc_add_single.draw()"
   ]
  },
  {
   "cell_type": "code",
   "execution_count": 23,
   "id": "409609e4",
   "metadata": {},
   "outputs": [],
   "source": [
    "n_shots = 100"
   ]
  },
  {
   "cell_type": "code",
   "execution_count": 25,
   "id": "9d6eca2f",
   "metadata": {},
   "outputs": [],
   "source": [
    "job = execute(qc_add_single, backend=device, shots=n_shots)"
   ]
  },
  {
   "cell_type": "code",
   "execution_count": 26,
   "id": "3bbdf399",
   "metadata": {},
   "outputs": [
    {
     "name": "stdout",
     "output_type": "stream",
     "text": [
      "Job Status: job has successfully run\n"
     ]
    }
   ],
   "source": [
    "job_monitor(job)"
   ]
  },
  {
   "cell_type": "code",
   "execution_count": 28,
   "id": "31f5f5c3",
   "metadata": {},
   "outputs": [
    {
     "data": {
      "image/png": "[encoded data removed]",
      "text/plain": [
       "<Figure size 504x360 with 1 Axes>"
      ]
     },
     "execution_count": 28,
     "metadata": {},
     "output_type": "execute_result"
    }
   ],
   "source": [
    "device_result = job.result()\n",
    "plot_histogram(device_result.get_counts(qc_add_single))"
   ]
  },
  {
   "cell_type": "code",
   "execution_count": null,
   "id": "57cb467c",
   "metadata": {},
   "outputs": [],
   "source": []
  },
  {
   "cell_type": "code",
   "execution_count": null,
   "id": "20cc3157",
   "metadata": {},
   "outputs": [],
   "source": [
    "n1 = '1'\n",
    "n2 = '1'"
   ]
  },
  {
   "cell_type": "code",
   "execution_count": null,
   "id": "44c15223",
   "metadata": {},
   "outputs": [],
   "source": [
    "n = len(n1)\n",
    "\n",
    "# Initializing the registers; two quantum registers with n bits each\n",
    "# 1 more with n+1 bits, which will also hold the sum of the two #numbers\n",
    "# The classical register has n+1 bits, which is used to make the sum #readable\n",
    "a = QuantumRegister(n)  # First number\n",
    "b = QuantumRegister(n + 1)  # Second number, then sum\n",
    "c = QuantumRegister(n)  # Carry bits\n",
    "cl = ClassicalRegister(n + 1)  # Classical output\n",
    "# Combining all of them into one quantum circuit\n",
    "qc = QuantumCircuit(a, b, c, cl)"
   ]
  },
  {
   "cell_type": "code",
   "execution_count": null,
   "id": "19c60541",
   "metadata": {},
   "outputs": [],
   "source": [
    "# Setting up the registers using the values inputted\n",
    "# quantum registers are initialized with |0>, so flip to |1> where\n",
    "# the number's classical bit is 1\n",
    "for i in range(n):\n",
    "    if n1[i] == '1':\n",
    "        qc.x(a[n - (i + 1)])  # Flip the qubit from |0> to |1>\n",
    "    if n2[i] == '1':\n",
    "        qc.x(b[n - (i + 1)])  # Flip the qubit from |0> to |1>"
   ]
  },
  {
   "cell_type": "code",
   "execution_count": null,
   "id": "b779d31c",
   "metadata": {},
   "outputs": [],
   "source": [
    "# Implementing a carry gate that is applied on all (c[i], a[i], b[i])\n",
    "# with output fed to c[i+1]\n",
    "for i in range(n - 1):\n",
    "    qc.ccx(a[i], b[i], c[i + 1])\n",
    "    qc.cx(a[i], b[i])\n",
    "    qc.ccx(c[i], b[i], c[i + 1])"
   ]
  },
  {
   "cell_type": "code",
   "execution_count": null,
   "id": "20c94820",
   "metadata": {},
   "outputs": [],
   "source": [
    "# For the last iteration of the carry gate, instead of feeding the\n",
    "# result to c[n], we use b[n], which is why c has only n bits, with\n",
    "# c[n-1] being the last carry bit\n",
    "qc.ccx(a[n - 1], b[n - 1], b[n])\n",
    "qc.cx(a[n - 1], b[n - 1])\n",
    "qc.ccx(c[n - 1], b[n - 1], b[n])"
   ]
  },
  {
   "cell_type": "code",
   "execution_count": null,
   "id": "f93fcbfe",
   "metadata": {},
   "outputs": [],
   "source": [
    "# Reversing the gate operation performed on b[n-1]\n",
    "qc.cx(c[n - 1], b[n - 1])\n",
    "# Reversing the gate operations performed during the carry gate implementations\n",
    "# This is done to ensure the sum gates are fed with the correct input bit states\n",
    "for i in range(n - 1):\n",
    "    qc.ccx(c[(n - 2) - i], b[(n - 2) - i], c[(n - 1) - i])\n",
    "    qc.cx(a[(n - 2) - i], b[(n - 2) - i])\n",
    "    qc.ccx(a[(n - 2) - i], b[(n - 2) - i], c[(n - 1) - i])\n",
    "    # These two operations act as a sum gate; if a control bit is at                \n",
    "    # the |1> state then the target bit b[(n-2)-i] is flipped\n",
    "    qc.cx(c[(n - 2) - i], b[(n - 2) - i])\n",
    "    qc.cx(a[(n - 2) - i], b[(n - 2) - i])"
   ]
  },
  {
   "cell_type": "code",
   "execution_count": null,
   "id": "dfdfa10c",
   "metadata": {},
   "outputs": [],
   "source": [
    "# Measure qubits and store results in classical register cl\n",
    "for i in range(n + 1):\n",
    "    qc.measure(b[i], cl[i])"
   ]
  },
  {
   "cell_type": "code",
   "execution_count": null,
   "id": "0f987a17",
   "metadata": {},
   "outputs": [],
   "source": [
    "# launch job"
   ]
  },
  {
   "cell_type": "code",
   "execution_count": null,
   "id": "bdcfa4ca",
   "metadata": {},
   "outputs": [],
   "source": [
    "n_shots = 100"
   ]
  },
  {
   "cell_type": "code",
   "execution_count": null,
   "id": "0809a0f0",
   "metadata": {},
   "outputs": [],
   "source": [
    "job = execute(qc, backend=device, shots=n_shots)"
   ]
  },
  {
   "cell_type": "code",
   "execution_count": null,
   "id": "26e40edf",
   "metadata": {},
   "outputs": [],
   "source": [
    "print(job.job_id())"
   ]
  },
  {
   "cell_type": "code",
   "execution_count": null,
   "id": "07f4956b",
   "metadata": {},
   "outputs": [],
   "source": [
    "job_monitor(job)"
   ]
  },
  {
   "cell_type": "code",
   "execution_count": null,
   "id": "c1e3e741",
   "metadata": {},
   "outputs": [],
   "source": [
    "device_result = job.result()"
   ]
  },
  {
   "cell_type": "code",
   "execution_count": null,
   "id": "0032dfd0",
   "metadata": {},
   "outputs": [],
   "source": [
    "plot_histogram(device_result.get_counts(qc))"
   ]
  }
 ],
 "metadata": {
  "kernelspec": {
   "display_name": "Python 3 (ipykernel)",
   "language": "python",
   "name": "python3"
  },
  "language_info": {
   "codemirror_mode": {
    "name": "ipython",
    "version": 3
   },
   "file_extension": ".py",
   "mimetype": "text/x-python",
   "name": "python",
   "nbconvert_exporter": "python",
   "pygments_lexer": "ipython3",
   "version": "3.8.11"
  }
 },
 "nbformat": 4,
 "nbformat_minor": 5
}
